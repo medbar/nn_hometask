{
 "cells": [
  {
   "cell_type": "markdown",
   "id": "a6f8b6ad-d1c2-4499-af1e-6230f93dba39",
   "metadata": {},
   "source": [
    "# Task 2. RNN\n",
    "\n",
    "Develop RNN, GRU and LSTM to predict Usage_kWh. Dataset - http://archive.ics.uci.edu/dataset/851/steel+industry+energy+consumption.\n",
    "\n",
    "Hyperparameters are at your discretion\n",
    "\n",
    "Compare the quality of the MSE, RMSE and R^2 models"
   ]
  },
  {
   "cell_type": "code",
   "execution_count": 1,
   "id": "585394d1-8aed-4eda-97c6-c042e0b1fd86",
   "metadata": {},
   "outputs": [
    {
     "name": "stdout",
     "output_type": "stream",
     "text": [
      "Looking in indexes: https://nid-artifactory.ad.speechpro.com/artifactory/api/pypi/pypi/simple\n",
      "Collecting ucimlrepo\n",
      "  Downloading https://nid-artifactory.ad.speechpro.com/artifactory/api/pypi/pypi/packages/packages/3b/07/1252560194df2b4fad1cb3c46081b948331c63eb1bb0b97620d508d12a53/ucimlrepo-0.0.7-py3-none-any.whl (8.0 kB)\n",
      "Requirement already satisfied: pandas>=1.0.0 in /mnt/asr_hot/mitrofanov-aa/projects/chime8/chime8_stc_recipe/anaconda/lib/python3.9/site-packages (from ucimlrepo) (2.2.1)\n",
      "Requirement already satisfied: certifi>=2020.12.5 in /mnt/asr_hot/mitrofanov-aa/projects/chime8/chime8_stc_recipe/anaconda/lib/python3.9/site-packages (from ucimlrepo) (2024.2.2)\n",
      "Requirement already satisfied: numpy<2,>=1.22.4 in /mnt/asr_hot/mitrofanov-aa/projects/chime8/chime8_stc_recipe/anaconda/lib/python3.9/site-packages (from pandas>=1.0.0->ucimlrepo) (1.23.5)\n",
      "Requirement already satisfied: python-dateutil>=2.8.2 in /mnt/asr_hot/mitrofanov-aa/projects/chime8/chime8_stc_recipe/anaconda/lib/python3.9/site-packages (from pandas>=1.0.0->ucimlrepo) (2.9.0.post0)\n",
      "Requirement already satisfied: pytz>=2020.1 in /mnt/asr_hot/mitrofanov-aa/projects/chime8/chime8_stc_recipe/anaconda/lib/python3.9/site-packages (from pandas>=1.0.0->ucimlrepo) (2024.1)\n",
      "Requirement already satisfied: tzdata>=2022.7 in /mnt/asr_hot/mitrofanov-aa/projects/chime8/chime8_stc_recipe/anaconda/lib/python3.9/site-packages (from pandas>=1.0.0->ucimlrepo) (2024.1)\n",
      "Requirement already satisfied: six>=1.5 in /mnt/asr_hot/mitrofanov-aa/projects/chime8/chime8_stc_recipe/anaconda/lib/python3.9/site-packages (from python-dateutil>=2.8.2->pandas>=1.0.0->ucimlrepo) (1.16.0)\n",
      "Installing collected packages: ucimlrepo\n",
      "Successfully installed ucimlrepo-0.0.7\n"
     ]
    }
   ],
   "source": [
    "! pip install ucimlrepo\n"
   ]
  },
  {
   "cell_type": "code",
   "execution_count": 1,
   "id": "80f1b1a6-6db4-479b-beae-e8bcaba10cbe",
   "metadata": {},
   "outputs": [
    {
     "name": "stdout",
     "output_type": "stream",
     "text": [
      "{'uci_id': 851, 'name': 'Steel Industry Energy Consumption', 'repository_url': 'https://archive.ics.uci.edu/dataset/851/steel+industry+energy+consumption', 'data_url': 'https://archive.ics.uci.edu/static/public/851/data.csv', 'abstract': 'The data is collected from a smart small-scale steel industry in South Korea.', 'area': 'Physics and Chemistry', 'tasks': ['Regression'], 'characteristics': ['Multivariate'], 'num_instances': 35040, 'num_features': 9, 'feature_types': ['Real', 'Categorical'], 'demographics': [], 'target_col': ['Load_Type'], 'index_col': None, 'has_missing_values': 'no', 'missing_values_symbol': None, 'year_of_dataset_creation': 2021, 'last_updated': 'Mon Aug 14 2023', 'dataset_doi': '10.24432/C52G8C', 'creators': ['Sathishkumar V E', 'Changsun Shin', 'Yongyun Cho'], 'intro_paper': {'title': 'Efficient energy consumption prediction model for a data analytic-enabled industry building in a smart city', 'authors': 'Sathishkumar V E, Changsun Shin, Yongyun Cho', 'published_in': 'Building Research & Information, Vol. 49. no. 1, pp. 127-143', 'year': 2021, 'url': 'https://www.semanticscholar.org/paper/a4e10d9c93ed4b2fd89ad34e15a37eb1dc251168', 'doi': None}, 'additional_info': {'summary': 'The information gathered is from the DAEWOO Steel Co. Ltd in Gwangyang, South Korea. It produces several types of coils, steel plates, and iron plates. The information on electricity consumption is held in a cloud-based system. The information on energy consumption of the industry is stored on the website of the Korea Electric Power Corporation (pccs.kepco.go.kr), and the perspectives on daily, monthly, and annual data are calculated and shown.', 'purpose': None, 'funded_by': None, 'instances_represent': None, 'recommended_data_splits': None, 'sensitive_data': None, 'preprocessing_description': None, 'variable_info': 'Data Variables Type Measurement\\nIndustry Energy Consumption Continuous kWh\\nLagging Current reactive power Continuous kVarh\\nLeading Current reactive power Continuous kVarh\\ntCO2(CO2) Continuous ppm\\nLagging Current power factor Continuous %\\nLeading Current Power factor Continuous %\\nNumber of Seconds from midnight Continuous S\\nWeek status Categorical (Weekend (0) or a Weekday(1))\\nDay of week Categorical Sunday, Monday â€¦. Saturday\\nLoad Type Categorical Light Load, Medium Load, Maximum Load', 'citation': None}}\n",
      "                                    name     role         type demographic  \\\n",
      "0                                   date    Other         Date        None   \n",
      "1                              Usage_kWh  Feature   Continuous        None   \n",
      "2   Lagging_Current_Reactive.Power_kVarh  Feature   Continuous        None   \n",
      "3   Leading_Current_Reactive_Power_kVarh  Feature   Continuous        None   \n",
      "4                              CO2(tCO2)  Feature   Continuous        None   \n",
      "5           Lagging_Current_Power_Factor  Feature   Continuous        None   \n",
      "6           Leading_Current_Power_Factor  Feature   Continuous        None   \n",
      "7                                    NSM  Feature      Integer        None   \n",
      "8                             WeekStatus  Feature  Categorical        None   \n",
      "9                            Day_of_week  Feature  Categorical        None   \n",
      "10                             Load_Type   Target  Categorical        None   \n",
      "\n",
      "                              description  units missing_values  \n",
      "0                                    None   None             no  \n",
      "1             Industry Energy Consumption    kWh             no  \n",
      "2                                    None  kVarh             no  \n",
      "3                                    None  kVarh             no  \n",
      "4                                    None    ppm             no  \n",
      "5                                    None      %             no  \n",
      "6                                    None      %             no  \n",
      "7                                    None      s             no  \n",
      "8             Weekend (0) or a Weekday(1)   None             no  \n",
      "9           Sunday, Monday, ..., Saturday   None             no  \n",
      "10  Light Load, Medium Load, Maximum Load   None             no  \n"
     ]
    }
   ],
   "source": [
    "from ucimlrepo import fetch_ucirepo \n",
    "  \n",
    "# fetch dataset \n",
    "steel_industry_energy_consumption = fetch_ucirepo(id=851) \n",
    "  \n",
    "# data (as pandas dataframes) \n",
    "X = steel_industry_energy_consumption.data.features \n",
    "y = steel_industry_energy_consumption.data.targets \n",
    "  \n",
    "# metadata \n",
    "print(steel_industry_energy_consumption.metadata) \n",
    "  \n",
    "# variable information \n",
    "print(steel_industry_energy_consumption.variables) "
   ]
  },
  {
   "cell_type": "code",
   "execution_count": 2,
   "id": "667c98a1-fd54-4ac8-af8c-b1c6da4b016a",
   "metadata": {},
   "outputs": [
    {
     "data": {
      "text/html": [
       "<div>\n",
       "<style scoped>\n",
       "    .dataframe tbody tr th:only-of-type {\n",
       "        vertical-align: middle;\n",
       "    }\n",
       "\n",
       "    .dataframe tbody tr th {\n",
       "        vertical-align: top;\n",
       "    }\n",
       "\n",
       "    .dataframe thead th {\n",
       "        text-align: right;\n",
       "    }\n",
       "</style>\n",
       "<table border=\"1\" class=\"dataframe\">\n",
       "  <thead>\n",
       "    <tr style=\"text-align: right;\">\n",
       "      <th></th>\n",
       "      <th>Usage_kWh</th>\n",
       "      <th>Lagging_Current_Reactive.Power_kVarh</th>\n",
       "      <th>Leading_Current_Reactive_Power_kVarh</th>\n",
       "      <th>CO2(tCO2)</th>\n",
       "      <th>Lagging_Current_Power_Factor</th>\n",
       "      <th>Leading_Current_Power_Factor</th>\n",
       "      <th>NSM</th>\n",
       "      <th>WeekStatus</th>\n",
       "      <th>Day_of_week</th>\n",
       "    </tr>\n",
       "  </thead>\n",
       "  <tbody>\n",
       "    <tr>\n",
       "      <th>0</th>\n",
       "      <td>3.17</td>\n",
       "      <td>2.95</td>\n",
       "      <td>0.0</td>\n",
       "      <td>0.0</td>\n",
       "      <td>73.21</td>\n",
       "      <td>100.0</td>\n",
       "      <td>900</td>\n",
       "      <td>Weekday</td>\n",
       "      <td>Monday</td>\n",
       "    </tr>\n",
       "    <tr>\n",
       "      <th>1</th>\n",
       "      <td>4.00</td>\n",
       "      <td>4.46</td>\n",
       "      <td>0.0</td>\n",
       "      <td>0.0</td>\n",
       "      <td>66.77</td>\n",
       "      <td>100.0</td>\n",
       "      <td>1800</td>\n",
       "      <td>Weekday</td>\n",
       "      <td>Monday</td>\n",
       "    </tr>\n",
       "    <tr>\n",
       "      <th>2</th>\n",
       "      <td>3.24</td>\n",
       "      <td>3.28</td>\n",
       "      <td>0.0</td>\n",
       "      <td>0.0</td>\n",
       "      <td>70.28</td>\n",
       "      <td>100.0</td>\n",
       "      <td>2700</td>\n",
       "      <td>Weekday</td>\n",
       "      <td>Monday</td>\n",
       "    </tr>\n",
       "    <tr>\n",
       "      <th>3</th>\n",
       "      <td>3.31</td>\n",
       "      <td>3.56</td>\n",
       "      <td>0.0</td>\n",
       "      <td>0.0</td>\n",
       "      <td>68.09</td>\n",
       "      <td>100.0</td>\n",
       "      <td>3600</td>\n",
       "      <td>Weekday</td>\n",
       "      <td>Monday</td>\n",
       "    </tr>\n",
       "    <tr>\n",
       "      <th>4</th>\n",
       "      <td>3.82</td>\n",
       "      <td>4.50</td>\n",
       "      <td>0.0</td>\n",
       "      <td>0.0</td>\n",
       "      <td>64.72</td>\n",
       "      <td>100.0</td>\n",
       "      <td>4500</td>\n",
       "      <td>Weekday</td>\n",
       "      <td>Monday</td>\n",
       "    </tr>\n",
       "  </tbody>\n",
       "</table>\n",
       "</div>"
      ],
      "text/plain": [
       "   Usage_kWh  Lagging_Current_Reactive.Power_kVarh  \\\n",
       "0       3.17                                  2.95   \n",
       "1       4.00                                  4.46   \n",
       "2       3.24                                  3.28   \n",
       "3       3.31                                  3.56   \n",
       "4       3.82                                  4.50   \n",
       "\n",
       "   Leading_Current_Reactive_Power_kVarh  CO2(tCO2)  \\\n",
       "0                                   0.0        0.0   \n",
       "1                                   0.0        0.0   \n",
       "2                                   0.0        0.0   \n",
       "3                                   0.0        0.0   \n",
       "4                                   0.0        0.0   \n",
       "\n",
       "   Lagging_Current_Power_Factor  Leading_Current_Power_Factor   NSM  \\\n",
       "0                         73.21                         100.0   900   \n",
       "1                         66.77                         100.0  1800   \n",
       "2                         70.28                         100.0  2700   \n",
       "3                         68.09                         100.0  3600   \n",
       "4                         64.72                         100.0  4500   \n",
       "\n",
       "  WeekStatus Day_of_week  \n",
       "0    Weekday      Monday  \n",
       "1    Weekday      Monday  \n",
       "2    Weekday      Monday  \n",
       "3    Weekday      Monday  \n",
       "4    Weekday      Monday  "
      ]
     },
     "execution_count": 2,
     "metadata": {},
     "output_type": "execute_result"
    }
   ],
   "source": [
    "X.head()"
   ]
  },
  {
   "cell_type": "code",
   "execution_count": 3,
   "id": "9c906ac0-04e3-438e-88cf-c0cc7d6abe41",
   "metadata": {},
   "outputs": [],
   "source": [
    "import torch\n",
    "import torch.nn as nn\n",
    "import numpy as np\n",
    "import pandas as pd\n",
    "from sklearn.preprocessing import MinMaxScaler\n",
    "from sklearn.metrics import mean_squared_error, r2_score \n",
    "from math import sqrt\n",
    "from sklearn.model_selection import train_test_split"
   ]
  },
  {
   "cell_type": "code",
   "execution_count": 4,
   "id": "1b5ffde3-3d87-4b22-bacd-25eb64f69c07",
   "metadata": {},
   "outputs": [
    {
     "data": {
      "text/plain": [
       "Usage_kWh                               float64\n",
       "Lagging_Current_Reactive.Power_kVarh    float64\n",
       "Leading_Current_Reactive_Power_kVarh    float64\n",
       "CO2(tCO2)                               float64\n",
       "Lagging_Current_Power_Factor            float64\n",
       "Leading_Current_Power_Factor            float64\n",
       "NSM                                       int64\n",
       "WeekStatus                               object\n",
       "Day_of_week                              object\n",
       "dtype: object"
      ]
     },
     "execution_count": 4,
     "metadata": {},
     "output_type": "execute_result"
    }
   ],
   "source": [
    "X.dtypes"
   ]
  },
  {
   "cell_type": "code",
   "execution_count": 5,
   "id": "d8a699b0-021e-49e2-8ae9-cd714c90cd51",
   "metadata": {},
   "outputs": [
    {
     "name": "stderr",
     "output_type": "stream",
     "text": [
      "/tmp/ipykernel_3634855/1920608977.py:3: SettingWithCopyWarning: \n",
      "A value is trying to be set on a copy of a slice from a DataFrame.\n",
      "Try using .loc[row_indexer,col_indexer] = value instead\n",
      "\n",
      "See the caveats in the documentation: https://pandas.pydata.org/pandas-docs/stable/user_guide/indexing.html#returning-a-view-versus-a-copy\n",
      "  X.loc[:, \"Day_of_week_int\"] = X.Day_of_week.apply(lambda x: days[x])\n"
     ]
    }
   ],
   "source": [
    "days = {l:i for i, l in enumerate(X.Day_of_week.unique())}\n",
    "week = {l:i for i, l in enumerate(X.WeekStatus.unique())}\n",
    "X.loc[:, \"Day_of_week_int\"] = X.Day_of_week.apply(lambda x: days[x])\n",
    "X.loc[:, \"WeekStatus_int\"] = X.WeekStatus.apply(lambda x: week[x])\n"
   ]
  },
  {
   "cell_type": "code",
   "execution_count": 6,
   "id": "294ffe27-dd08-40ae-9ce7-56646d46b1bb",
   "metadata": {},
   "outputs": [
    {
     "data": {
      "text/html": [
       "<div>\n",
       "<style scoped>\n",
       "    .dataframe tbody tr th:only-of-type {\n",
       "        vertical-align: middle;\n",
       "    }\n",
       "\n",
       "    .dataframe tbody tr th {\n",
       "        vertical-align: top;\n",
       "    }\n",
       "\n",
       "    .dataframe thead th {\n",
       "        text-align: right;\n",
       "    }\n",
       "</style>\n",
       "<table border=\"1\" class=\"dataframe\">\n",
       "  <thead>\n",
       "    <tr style=\"text-align: right;\">\n",
       "      <th></th>\n",
       "      <th>Usage_kWh</th>\n",
       "      <th>Lagging_Current_Reactive.Power_kVarh</th>\n",
       "      <th>Leading_Current_Reactive_Power_kVarh</th>\n",
       "      <th>CO2(tCO2)</th>\n",
       "      <th>Lagging_Current_Power_Factor</th>\n",
       "      <th>Leading_Current_Power_Factor</th>\n",
       "      <th>NSM</th>\n",
       "      <th>WeekStatus</th>\n",
       "      <th>Day_of_week</th>\n",
       "      <th>Day_of_week_int</th>\n",
       "      <th>WeekStatus_int</th>\n",
       "    </tr>\n",
       "  </thead>\n",
       "  <tbody>\n",
       "    <tr>\n",
       "      <th>0</th>\n",
       "      <td>3.17</td>\n",
       "      <td>2.95</td>\n",
       "      <td>0.0</td>\n",
       "      <td>0.0</td>\n",
       "      <td>73.21</td>\n",
       "      <td>100.0</td>\n",
       "      <td>900</td>\n",
       "      <td>Weekday</td>\n",
       "      <td>Monday</td>\n",
       "      <td>0</td>\n",
       "      <td>0</td>\n",
       "    </tr>\n",
       "    <tr>\n",
       "      <th>1</th>\n",
       "      <td>4.00</td>\n",
       "      <td>4.46</td>\n",
       "      <td>0.0</td>\n",
       "      <td>0.0</td>\n",
       "      <td>66.77</td>\n",
       "      <td>100.0</td>\n",
       "      <td>1800</td>\n",
       "      <td>Weekday</td>\n",
       "      <td>Monday</td>\n",
       "      <td>0</td>\n",
       "      <td>0</td>\n",
       "    </tr>\n",
       "    <tr>\n",
       "      <th>2</th>\n",
       "      <td>3.24</td>\n",
       "      <td>3.28</td>\n",
       "      <td>0.0</td>\n",
       "      <td>0.0</td>\n",
       "      <td>70.28</td>\n",
       "      <td>100.0</td>\n",
       "      <td>2700</td>\n",
       "      <td>Weekday</td>\n",
       "      <td>Monday</td>\n",
       "      <td>0</td>\n",
       "      <td>0</td>\n",
       "    </tr>\n",
       "    <tr>\n",
       "      <th>3</th>\n",
       "      <td>3.31</td>\n",
       "      <td>3.56</td>\n",
       "      <td>0.0</td>\n",
       "      <td>0.0</td>\n",
       "      <td>68.09</td>\n",
       "      <td>100.0</td>\n",
       "      <td>3600</td>\n",
       "      <td>Weekday</td>\n",
       "      <td>Monday</td>\n",
       "      <td>0</td>\n",
       "      <td>0</td>\n",
       "    </tr>\n",
       "    <tr>\n",
       "      <th>4</th>\n",
       "      <td>3.82</td>\n",
       "      <td>4.50</td>\n",
       "      <td>0.0</td>\n",
       "      <td>0.0</td>\n",
       "      <td>64.72</td>\n",
       "      <td>100.0</td>\n",
       "      <td>4500</td>\n",
       "      <td>Weekday</td>\n",
       "      <td>Monday</td>\n",
       "      <td>0</td>\n",
       "      <td>0</td>\n",
       "    </tr>\n",
       "  </tbody>\n",
       "</table>\n",
       "</div>"
      ],
      "text/plain": [
       "   Usage_kWh  Lagging_Current_Reactive.Power_kVarh  \\\n",
       "0       3.17                                  2.95   \n",
       "1       4.00                                  4.46   \n",
       "2       3.24                                  3.28   \n",
       "3       3.31                                  3.56   \n",
       "4       3.82                                  4.50   \n",
       "\n",
       "   Leading_Current_Reactive_Power_kVarh  CO2(tCO2)  \\\n",
       "0                                   0.0        0.0   \n",
       "1                                   0.0        0.0   \n",
       "2                                   0.0        0.0   \n",
       "3                                   0.0        0.0   \n",
       "4                                   0.0        0.0   \n",
       "\n",
       "   Lagging_Current_Power_Factor  Leading_Current_Power_Factor   NSM  \\\n",
       "0                         73.21                         100.0   900   \n",
       "1                         66.77                         100.0  1800   \n",
       "2                         70.28                         100.0  2700   \n",
       "3                         68.09                         100.0  3600   \n",
       "4                         64.72                         100.0  4500   \n",
       "\n",
       "  WeekStatus Day_of_week  Day_of_week_int  WeekStatus_int  \n",
       "0    Weekday      Monday                0               0  \n",
       "1    Weekday      Monday                0               0  \n",
       "2    Weekday      Monday                0               0  \n",
       "3    Weekday      Monday                0               0  \n",
       "4    Weekday      Monday                0               0  "
      ]
     },
     "execution_count": 6,
     "metadata": {},
     "output_type": "execute_result"
    }
   ],
   "source": [
    "X.head()"
   ]
  },
  {
   "cell_type": "code",
   "execution_count": 7,
   "id": "dac129dd-c823-4b56-84ef-5970c96cfb91",
   "metadata": {},
   "outputs": [],
   "source": [
    "y = X.Usage_kWh.values\n",
    "feats = X.drop([\"Usage_kWh\", \"WeekStatus\", \"Day_of_week\"], axis=1).values\n"
   ]
  },
  {
   "cell_type": "code",
   "execution_count": 8,
   "id": "0215b88b-a2b9-4312-863a-1a1e91f9f94e",
   "metadata": {},
   "outputs": [
    {
     "data": {
      "text/plain": [
       "array([[2.95e+00, 0.00e+00, 0.00e+00, ..., 9.00e+02, 0.00e+00, 0.00e+00],\n",
       "       [4.46e+00, 0.00e+00, 0.00e+00, ..., 1.80e+03, 0.00e+00, 0.00e+00],\n",
       "       [3.28e+00, 0.00e+00, 0.00e+00, ..., 2.70e+03, 0.00e+00, 0.00e+00],\n",
       "       ...,\n",
       "       [3.17e+00, 7.00e-02, 0.00e+00, ..., 8.46e+04, 0.00e+00, 0.00e+00],\n",
       "       [3.06e+00, 1.10e-01, 0.00e+00, ..., 8.55e+04, 0.00e+00, 0.00e+00],\n",
       "       [3.02e+00, 7.00e-02, 0.00e+00, ..., 0.00e+00, 0.00e+00, 0.00e+00]])"
      ]
     },
     "execution_count": 8,
     "metadata": {},
     "output_type": "execute_result"
    }
   ],
   "source": [
    "feats"
   ]
  },
  {
   "cell_type": "code",
   "execution_count": 9,
   "id": "bacd657d-555c-496c-9115-22ae0a347b91",
   "metadata": {},
   "outputs": [],
   "source": [
    "X_train, X_val, y_train, y_val = train_test_split(feats, y, test_size=0.33, shuffle=False)\n"
   ]
  },
  {
   "cell_type": "code",
   "execution_count": 17,
   "id": "52962bd3-c0fa-4812-923b-11f796375047",
   "metadata": {},
   "outputs": [],
   "source": [
    "# Normalize the data\n",
    "scaler = MinMaxScaler()\n",
    "X_train_norm = scaler.fit_transform(X_train)\n",
    "X_val_norm = scaler.transform(X_val)\n"
   ]
  },
  {
   "cell_type": "code",
   "execution_count": 18,
   "id": "e8f64058-ceb0-47d9-9e5f-74c81231dbcb",
   "metadata": {},
   "outputs": [],
   "source": [
    "# for autoregression\n",
    "X_train_norm = X_train_norm[:-1]\n",
    "X_val_norm = X_val_norm[:-1]"
   ]
  },
  {
   "cell_type": "code",
   "execution_count": 12,
   "id": "1e28d437-fa03-409c-bf02-a897a827d5e2",
   "metadata": {},
   "outputs": [],
   "source": [
    "# Define the RNN model\n",
    "class RNN(nn.Module):\n",
    "    def __init__(self, inputsize, hiddensize, numlayers, outputsize):\n",
    "        super(RNN, self).__init__()\n",
    "        self.hiddensize = hiddensize\n",
    "        self.numlayers = numlayers\n",
    "        self.rnn = nn.RNN(inputsize, hiddensize, numlayers, batch_first=True)\n",
    "        self.fc = nn.Linear(hiddensize, outputsize)\n",
    "\n",
    "    def forward(self, x, h0=None):\n",
    "        if h0 is None:\n",
    "            h0 = torch.zeros(self.numlayers, x.size(0), self.hiddensize, device=x.device)\n",
    "        out, h1 = self.rnn(x, h0)\n",
    "        out = self.fc(out)\n",
    "        return out, h1\n",
    "\n",
    "# Define the GRU model\n",
    "class GRU(nn.Module):\n",
    "    def __init__(self, inputsize, hiddensize, numlayers, outputsize):\n",
    "        super(GRU, self).__init__()\n",
    "        self.hiddensize = hiddensize\n",
    "        self.numlayers = numlayers\n",
    "        self.gru = nn.GRU(inputsize, hiddensize, numlayers, batch_first=True)\n",
    "        self.fc = nn.Linear(hiddensize, outputsize)\n",
    "\n",
    "    def forward(self, x, h0=None):\n",
    "        if h0 is None:\n",
    "            h0 = torch.zeros(self.numlayers, x.size(0), self.hiddensize, device=x.device)\n",
    "        out, h1 = self.gru(x, h0)\n",
    "        out = self.fc(out)\n",
    "        return out, h1\n",
    "\n",
    "# Define the LSTM model\n",
    "class LSTM(nn.Module):\n",
    "    def __init__(self, inputsize, hiddensize, numlayers, outputsize):\n",
    "        super(LSTM, self).__init__()\n",
    "        self.hiddensize = hiddensize\n",
    "        self.numlayers = numlayers\n",
    "        self.rnn = nn.LSTM(inputsize, hiddensize, numlayers, batch_first=True)\n",
    "        self.fc = nn.Linear(hiddensize, outputsize)\n",
    "\n",
    "    def forward(self, x, h0=None):\n",
    "        if h0 is None:\n",
    "            h0 = (torch.zeros(self.numlayers, x.size(0), self.hiddensize, device=x.device), \n",
    "                  torch.zeros(self.numlayers, x.size(0), self.hiddensize, device=x.device))\n",
    "        out, h1 = self.rnn(x, h0)\n",
    "        out = self.fc(out)\n",
    "        return out, h1\n",
    "        \n"
   ]
  },
  {
   "cell_type": "code",
   "execution_count": 13,
   "id": "7e78baf7-7a5e-4929-8c61-38009b4016e3",
   "metadata": {},
   "outputs": [
    {
     "data": {
      "text/plain": [
       "array([[ 0,  1,  2,  3,  4,  5,  6,  7,  8,  9, 10, 11, 12, 13, 14, 15,\n",
       "        16, 17, 18, 19, 20, 21, 22, 23, 24, 25, 26, 27, 28, 29, 30, 31,\n",
       "        32, 33, 34, 35, 36, 37, 38, 39, 40, 41, 42, 43, 44, 45, 46, 47,\n",
       "        48, 49],\n",
       "       [50, 51, 52, 53, 54, 55, 56, 57, 58, 59, 60, 61, 62, 63, 64, 65,\n",
       "        66, 67, 68, 69, 70, 71, 72, 73, 74, 75, 76, 77, 78, 79, 80, 81,\n",
       "        82, 83, 84, 85, 86, 87, 88, 89, 90, 91, 92, 93, 94, 95, 96, 97,\n",
       "        98, 99]])"
      ]
     },
     "execution_count": 13,
     "metadata": {},
     "output_type": "execute_result"
    }
   ],
   "source": [
    "np.arange(100).reshape(2, -1)"
   ]
  },
  {
   "cell_type": "code",
   "execution_count": 14,
   "id": "4717a013-3ff8-47e3-b919-bf6c50a41084",
   "metadata": {},
   "outputs": [],
   "source": [
    "from tqdm.auto import tqdm"
   ]
  },
  {
   "cell_type": "code",
   "execution_count": 22,
   "id": "088e0415-994b-4123-94d2-c5be6af58a15",
   "metadata": {},
   "outputs": [
    {
     "data": {
      "text/plain": [
       "tensor([[0.0304, 0.0000, 0.0000,  ..., 0.0105, 0.0000, 0.0000],\n",
       "        [0.0460, 0.0000, 0.0000,  ..., 0.0211, 0.0000, 0.0000],\n",
       "        [0.0338, 0.0000, 0.0000,  ..., 0.0316, 0.0000, 0.0000],\n",
       "        ...,\n",
       "        [0.0000, 0.4294, 0.0000,  ..., 0.5158, 1.0000, 1.0000],\n",
       "        [0.0000, 0.4305, 0.0000,  ..., 0.5263, 1.0000, 1.0000],\n",
       "        [0.0000, 0.4254, 0.0000,  ..., 0.5368, 1.0000, 1.0000]],\n",
       "       device='cuda:0', dtype=torch.float64)"
      ]
     },
     "execution_count": 22,
     "metadata": {},
     "output_type": "execute_result"
    }
   ],
   "source": [
    "torch.from_numpy(X_train_norm).to('cuda')"
   ]
  },
  {
   "cell_type": "code",
   "execution_count": 21,
   "id": "212738d5-d7f2-4714-bc69-765bc4eb6be5",
   "metadata": {},
   "outputs": [
    {
     "data": {
      "text/plain": [
       "(23476,)"
      ]
     },
     "execution_count": 21,
     "metadata": {},
     "output_type": "execute_result"
    }
   ],
   "source": [
    "y_train.shape"
   ]
  },
  {
   "cell_type": "code",
   "execution_count": 23,
   "id": "7bbc12f7-d693-4d22-9f9e-d7dde1927e2c",
   "metadata": {},
   "outputs": [],
   "source": [
    "# Train the models\n",
    "inputsize = 9\n",
    "outputsize = 1\n",
    "numepochs = 1000\n",
    "learningrate = 0.01\n",
    "chunk_len=256\n",
    "batch_size=64\n",
    "\n",
    "device='cpu'\n",
    "\n",
    "X_train_norm = torch.from_numpy(X_train_norm).to(device, dtype=torch.float)\n",
    "y_train = torch.from_numpy(y_train).to(device, dtype=torch.float)\n",
    "def train_model(model):\n",
    "    model = model.to(device)\n",
    "    criterion = nn.MSELoss()\n",
    "    optimizer = torch.optim.Adam(model.parameters(), lr=learningrate)\n",
    "    \n",
    "    # Training RNN model\n",
    "    chunk = (chunk_len*batch_size)\n",
    "    pbar = tqdm(range(numepochs))\n",
    "    for epoch in pbar:\n",
    "        for i in range(0, X_train_norm.shape[0]//chunk):\n",
    "            start_i = min(i*chunk, X_train_norm.shape[0] - chunk)\n",
    "            batch_X = X_train_norm[start_i:(i+1)*chunk]\n",
    "            batch_y = y_train[start_i: (i+1)*chunk + 1]\n",
    "            batch = torch.cat((batch_X, batch_y[:-1].unsqueeze(dim=1)), dim=1).view(batch_size, chunk_len, -1)\n",
    "            \n",
    "            #.reshape(batch_size, chunk_len)\n",
    "            # batch = torch.from_numpy(batch).to(device, dtype=torch.float)\n",
    "            optimizer.zero_grad()\n",
    "            outputs, _ = model(batch)\n",
    "            loss = criterion(outputs.view(-1), batch_y[1:])\n",
    "            loss.backward()\n",
    "            optimizer.step()\n",
    "        if epoch % 10 == 0:\n",
    "            print(f'Epoch: {epoch}, Loss: {loss.item()}')\n",
    "        pbar.set_description_str(f'Epoch: {epoch}, Loss: {loss.item()}')\n",
    "    return model\n",
    "\n",
    "\n"
   ]
  },
  {
   "cell_type": "code",
   "execution_count": 24,
   "id": "2d03849f-16e7-4c98-a625-43993cb11788",
   "metadata": {
    "scrolled": true
   },
   "outputs": [
    {
     "data": {
      "application/vnd.jupyter.widget-view+json": {
       "model_id": "1ed237ebcfc948e7a0b6cb5157d03889",
       "version_major": 2,
       "version_minor": 0
      },
      "text/plain": [
       "  0%|          | 0/1000 [00:00<?, ?it/s]"
      ]
     },
     "metadata": {},
     "output_type": "display_data"
    },
    {
     "name": "stdout",
     "output_type": "stream",
     "text": [
      "Epoch: 0, Loss: 2228.37451171875\n",
      "Epoch: 10, Loss: 1780.520751953125\n",
      "Epoch: 20, Loss: 1543.5274658203125\n",
      "Epoch: 30, Loss: 1395.326416015625\n",
      "Epoch: 40, Loss: 1321.4200439453125\n",
      "Epoch: 50, Loss: 1293.878662109375\n",
      "Epoch: 60, Loss: 1287.389404296875\n",
      "Epoch: 70, Loss: 1286.4403076171875\n",
      "Epoch: 80, Loss: 1142.7340087890625\n",
      "Epoch: 90, Loss: 833.04150390625\n",
      "Epoch: 100, Loss: 683.7636108398438\n",
      "Epoch: 110, Loss: 558.510986328125\n",
      "Epoch: 120, Loss: 461.48663330078125\n",
      "Epoch: 130, Loss: 391.5372009277344\n",
      "Epoch: 140, Loss: 341.51788330078125\n",
      "Epoch: 150, Loss: 306.42974853515625\n",
      "Epoch: 160, Loss: 280.3232421875\n",
      "Epoch: 170, Loss: 259.5093078613281\n",
      "Epoch: 180, Loss: 242.9205780029297\n",
      "Epoch: 190, Loss: 231.028076171875\n",
      "Epoch: 200, Loss: 218.9305419921875\n",
      "Epoch: 210, Loss: 209.88900756835938\n",
      "Epoch: 220, Loss: 201.35494995117188\n",
      "Epoch: 230, Loss: 196.87649536132812\n",
      "Epoch: 240, Loss: 190.66928100585938\n",
      "Epoch: 250, Loss: 187.91702270507812\n",
      "Epoch: 260, Loss: 182.65782165527344\n",
      "Epoch: 270, Loss: 179.61183166503906\n",
      "Epoch: 280, Loss: 177.77951049804688\n",
      "Epoch: 290, Loss: 175.0587158203125\n",
      "Epoch: 300, Loss: 176.38778686523438\n",
      "Epoch: 310, Loss: 170.9027099609375\n",
      "Epoch: 320, Loss: 168.068115234375\n",
      "Epoch: 330, Loss: 165.43597412109375\n",
      "Epoch: 340, Loss: 165.29977416992188\n",
      "Epoch: 350, Loss: 162.31353759765625\n",
      "Epoch: 360, Loss: 161.1445770263672\n",
      "Epoch: 370, Loss: 165.33425903320312\n",
      "Epoch: 380, Loss: 160.95938110351562\n",
      "Epoch: 390, Loss: 158.0052032470703\n",
      "Epoch: 400, Loss: 158.529052734375\n",
      "Epoch: 410, Loss: 157.35443115234375\n",
      "Epoch: 420, Loss: 155.44363403320312\n",
      "Epoch: 430, Loss: 154.7082977294922\n",
      "Epoch: 440, Loss: 152.71417236328125\n",
      "Epoch: 450, Loss: 157.6565704345703\n",
      "Epoch: 460, Loss: 156.11859130859375\n",
      "Epoch: 470, Loss: 153.86697387695312\n",
      "Epoch: 480, Loss: 151.9490509033203\n",
      "Epoch: 490, Loss: 150.544677734375\n",
      "Epoch: 500, Loss: 149.6138153076172\n",
      "Epoch: 510, Loss: 148.13343811035156\n",
      "Epoch: 520, Loss: 147.8936767578125\n",
      "Epoch: 530, Loss: 150.79537963867188\n",
      "Epoch: 540, Loss: 147.61856079101562\n",
      "Epoch: 550, Loss: 149.14996337890625\n",
      "Epoch: 560, Loss: 152.42437744140625\n",
      "Epoch: 570, Loss: 146.47767639160156\n",
      "Epoch: 580, Loss: 144.4053955078125\n",
      "Epoch: 590, Loss: 143.66864013671875\n",
      "Epoch: 600, Loss: 142.66006469726562\n",
      "Epoch: 610, Loss: 144.0064697265625\n",
      "Epoch: 620, Loss: 141.75604248046875\n",
      "Epoch: 630, Loss: 143.5745849609375\n",
      "Epoch: 640, Loss: 140.99110412597656\n",
      "Epoch: 650, Loss: 140.06809997558594\n",
      "Epoch: 660, Loss: 139.62393188476562\n",
      "Epoch: 670, Loss: 141.3074188232422\n",
      "Epoch: 680, Loss: 141.62127685546875\n",
      "Epoch: 690, Loss: 137.21945190429688\n",
      "Epoch: 700, Loss: 134.70753479003906\n",
      "Epoch: 710, Loss: 138.81028747558594\n",
      "Epoch: 720, Loss: 142.44686889648438\n",
      "Epoch: 730, Loss: 136.96482849121094\n",
      "Epoch: 740, Loss: 134.538330078125\n",
      "Epoch: 750, Loss: 133.5032958984375\n",
      "Epoch: 760, Loss: 131.55422973632812\n",
      "Epoch: 770, Loss: 133.23841857910156\n",
      "Epoch: 780, Loss: 131.402587890625\n",
      "Epoch: 790, Loss: 136.21917724609375\n",
      "Epoch: 800, Loss: 134.5550079345703\n",
      "Epoch: 810, Loss: 137.2007598876953\n",
      "Epoch: 820, Loss: 146.82733154296875\n",
      "Epoch: 830, Loss: 142.92662048339844\n",
      "Epoch: 840, Loss: 133.91651916503906\n",
      "Epoch: 850, Loss: 130.45596313476562\n",
      "Epoch: 860, Loss: 127.28734588623047\n",
      "Epoch: 870, Loss: 130.6077423095703\n",
      "Epoch: 880, Loss: 130.2615966796875\n",
      "Epoch: 890, Loss: 132.4639129638672\n",
      "Epoch: 900, Loss: 133.14610290527344\n",
      "Epoch: 910, Loss: 130.06219482421875\n",
      "Epoch: 920, Loss: 132.77828979492188\n",
      "Epoch: 930, Loss: 131.46217346191406\n",
      "Epoch: 940, Loss: 130.43637084960938\n",
      "Epoch: 950, Loss: 128.9735107421875\n",
      "Epoch: 960, Loss: 125.82149505615234\n",
      "Epoch: 970, Loss: 123.84904479980469\n",
      "Epoch: 980, Loss: 154.7335968017578\n",
      "Epoch: 990, Loss: 144.822509765625\n"
     ]
    }
   ],
   "source": [
    "rnn = train_model(RNN(inputsize, 64, 2, outputsize))\n"
   ]
  },
  {
   "cell_type": "code",
   "execution_count": 52,
   "id": "25db8eef-c108-4ddb-ab8d-07afa8856d2e",
   "metadata": {},
   "outputs": [
    {
     "data": {
      "application/vnd.jupyter.widget-view+json": {
       "model_id": "3dcbd0cd295648cc85a6a0070cc95fbf",
       "version_major": 2,
       "version_minor": 0
      },
      "text/plain": [
       "  0%|          | 0/1000 [00:00<?, ?it/s]"
      ]
     },
     "metadata": {},
     "output_type": "display_data"
    },
    {
     "name": "stdout",
     "output_type": "stream",
     "text": [
      "Epoch: 0, Loss: 2218.261474609375\n",
      "Epoch: 10, Loss: 1755.3887939453125\n",
      "Epoch: 20, Loss: 1522.96435546875\n",
      "Epoch: 30, Loss: 1381.787353515625\n",
      "Epoch: 40, Loss: 1314.3994140625\n",
      "Epoch: 50, Loss: 1291.0755615234375\n",
      "Epoch: 60, Loss: 1276.792724609375\n",
      "Epoch: 70, Loss: 903.2313232421875\n",
      "Epoch: 80, Loss: 761.0872802734375\n",
      "Epoch: 90, Loss: 626.4653930664062\n",
      "Epoch: 100, Loss: 514.963623046875\n",
      "Epoch: 110, Loss: 428.2420349121094\n",
      "Epoch: 120, Loss: 366.5002136230469\n",
      "Epoch: 130, Loss: 322.8092041015625\n",
      "Epoch: 140, Loss: 294.16876220703125\n",
      "Epoch: 150, Loss: 268.517822265625\n",
      "Epoch: 160, Loss: 248.83485412597656\n",
      "Epoch: 170, Loss: 233.9628143310547\n",
      "Epoch: 180, Loss: 221.92825317382812\n",
      "Epoch: 190, Loss: 211.91346740722656\n",
      "Epoch: 200, Loss: 202.45068359375\n",
      "Epoch: 210, Loss: 199.9518585205078\n",
      "Epoch: 220, Loss: 190.53350830078125\n",
      "Epoch: 230, Loss: 184.29721069335938\n",
      "Epoch: 240, Loss: 179.14845275878906\n",
      "Epoch: 250, Loss: 175.0459747314453\n",
      "Epoch: 260, Loss: 175.33489990234375\n",
      "Epoch: 270, Loss: 169.34002685546875\n",
      "Epoch: 280, Loss: 165.3282470703125\n",
      "Epoch: 290, Loss: 172.65541076660156\n",
      "Epoch: 300, Loss: 160.78204345703125\n",
      "Epoch: 310, Loss: 158.70733642578125\n",
      "Epoch: 320, Loss: 155.157470703125\n",
      "Epoch: 330, Loss: 154.10548400878906\n",
      "Epoch: 340, Loss: 156.1897430419922\n",
      "Epoch: 350, Loss: 154.7982177734375\n",
      "Epoch: 360, Loss: 150.7288055419922\n",
      "Epoch: 370, Loss: 149.46975708007812\n",
      "Epoch: 380, Loss: 146.37158203125\n",
      "Epoch: 390, Loss: 144.9214630126953\n",
      "Epoch: 400, Loss: 144.15731811523438\n",
      "Epoch: 410, Loss: 142.19386291503906\n",
      "Epoch: 420, Loss: 141.2379150390625\n",
      "Epoch: 430, Loss: 141.26976013183594\n",
      "Epoch: 440, Loss: 140.23373413085938\n",
      "Epoch: 450, Loss: 138.90597534179688\n",
      "Epoch: 460, Loss: 138.44027709960938\n",
      "Epoch: 470, Loss: 137.096923828125\n",
      "Epoch: 480, Loss: 136.3251953125\n",
      "Epoch: 490, Loss: 135.15716552734375\n",
      "Epoch: 500, Loss: 140.01300048828125\n",
      "Epoch: 510, Loss: 137.48538208007812\n",
      "Epoch: 520, Loss: 134.67889404296875\n",
      "Epoch: 530, Loss: 132.67431640625\n",
      "Epoch: 540, Loss: 130.94461059570312\n",
      "Epoch: 550, Loss: 138.5653533935547\n",
      "Epoch: 560, Loss: 132.950439453125\n",
      "Epoch: 570, Loss: 133.67398071289062\n",
      "Epoch: 580, Loss: 129.86013793945312\n",
      "Epoch: 590, Loss: 132.2632598876953\n",
      "Epoch: 600, Loss: 127.74793243408203\n",
      "Epoch: 610, Loss: 126.88127899169922\n",
      "Epoch: 620, Loss: 126.03623962402344\n",
      "Epoch: 630, Loss: 132.401123046875\n",
      "Epoch: 640, Loss: 127.74360656738281\n",
      "Epoch: 650, Loss: 124.64600372314453\n",
      "Epoch: 660, Loss: 129.28176879882812\n",
      "Epoch: 670, Loss: 125.1750717163086\n",
      "Epoch: 680, Loss: 122.78678131103516\n",
      "Epoch: 690, Loss: 122.69110870361328\n",
      "Epoch: 700, Loss: 126.67195892333984\n",
      "Epoch: 710, Loss: 121.78665924072266\n",
      "Epoch: 720, Loss: 130.805419921875\n",
      "Epoch: 730, Loss: 127.58784484863281\n",
      "Epoch: 740, Loss: 124.15617370605469\n",
      "Epoch: 750, Loss: 120.07347106933594\n",
      "Epoch: 760, Loss: 124.4502182006836\n",
      "Epoch: 770, Loss: 124.76870727539062\n",
      "Epoch: 780, Loss: 123.4598388671875\n",
      "Epoch: 790, Loss: 118.31687927246094\n",
      "Epoch: 800, Loss: 116.41114044189453\n",
      "Epoch: 810, Loss: 117.08123016357422\n",
      "Epoch: 820, Loss: 112.68753814697266\n",
      "Epoch: 830, Loss: 115.98530578613281\n",
      "Epoch: 840, Loss: 116.17359924316406\n",
      "Epoch: 850, Loss: 115.72225189208984\n",
      "Epoch: 860, Loss: 118.10409545898438\n",
      "Epoch: 870, Loss: 125.54325866699219\n",
      "Epoch: 880, Loss: 118.71768188476562\n",
      "Epoch: 890, Loss: 113.2098617553711\n",
      "Epoch: 900, Loss: 122.74447631835938\n",
      "Epoch: 910, Loss: 125.09664916992188\n",
      "Epoch: 920, Loss: 117.54330444335938\n",
      "Epoch: 930, Loss: 116.62427520751953\n",
      "Epoch: 940, Loss: 111.14999389648438\n",
      "Epoch: 950, Loss: 114.31806182861328\n",
      "Epoch: 960, Loss: 114.38446044921875\n",
      "Epoch: 970, Loss: 111.66767883300781\n",
      "Epoch: 980, Loss: 110.49070739746094\n",
      "Epoch: 990, Loss: 116.18447875976562\n"
     ]
    }
   ],
   "source": [
    "gru = train_model(GRU(inputsize, 64, 2, outputsize))\n"
   ]
  },
  {
   "cell_type": "code",
   "execution_count": 53,
   "id": "d4f5ea05-21a9-482e-a976-8bddefe27be5",
   "metadata": {},
   "outputs": [
    {
     "data": {
      "application/vnd.jupyter.widget-view+json": {
       "model_id": "aa9db812853f42edae89ac46a4d014ce",
       "version_major": 2,
       "version_minor": 0
      },
      "text/plain": [
       "  0%|          | 0/1000 [00:00<?, ?it/s]"
      ]
     },
     "metadata": {},
     "output_type": "display_data"
    },
    {
     "name": "stdout",
     "output_type": "stream",
     "text": [
      "Epoch: 0, Loss: 2218.82470703125\n",
      "Epoch: 10, Loss: 1812.7386474609375\n",
      "Epoch: 20, Loss: 1569.880859375\n",
      "Epoch: 30, Loss: 1410.1893310546875\n",
      "Epoch: 40, Loss: 1327.9241943359375\n",
      "Epoch: 50, Loss: 1296.0875244140625\n",
      "Epoch: 60, Loss: 1287.8179931640625\n",
      "Epoch: 70, Loss: 1216.3033447265625\n",
      "Epoch: 80, Loss: 955.6558227539062\n",
      "Epoch: 90, Loss: 761.4691162109375\n",
      "Epoch: 100, Loss: 605.4696655273438\n",
      "Epoch: 110, Loss: 487.2771911621094\n",
      "Epoch: 120, Loss: 403.5963439941406\n",
      "Epoch: 130, Loss: 344.14349365234375\n",
      "Epoch: 140, Loss: 302.4382629394531\n",
      "Epoch: 150, Loss: 272.538330078125\n",
      "Epoch: 160, Loss: 250.92327880859375\n",
      "Epoch: 170, Loss: 233.43772888183594\n",
      "Epoch: 180, Loss: 221.0426788330078\n",
      "Epoch: 190, Loss: 209.94107055664062\n",
      "Epoch: 200, Loss: 201.4827880859375\n",
      "Epoch: 210, Loss: 194.54417419433594\n",
      "Epoch: 220, Loss: 188.5466766357422\n",
      "Epoch: 230, Loss: 182.41143798828125\n",
      "Epoch: 240, Loss: 179.7904510498047\n",
      "Epoch: 250, Loss: 174.9194793701172\n",
      "Epoch: 260, Loss: 172.50704956054688\n",
      "Epoch: 270, Loss: 168.71084594726562\n",
      "Epoch: 280, Loss: 165.21743774414062\n",
      "Epoch: 290, Loss: 162.6892852783203\n",
      "Epoch: 300, Loss: 161.84341430664062\n",
      "Epoch: 310, Loss: 159.23060607910156\n",
      "Epoch: 320, Loss: 157.68821716308594\n",
      "Epoch: 330, Loss: 156.72698974609375\n",
      "Epoch: 340, Loss: 153.0555877685547\n",
      "Epoch: 350, Loss: 153.72048950195312\n",
      "Epoch: 360, Loss: 154.37069702148438\n",
      "Epoch: 370, Loss: 150.94496154785156\n",
      "Epoch: 380, Loss: 161.9822998046875\n",
      "Epoch: 390, Loss: 155.36679077148438\n",
      "Epoch: 400, Loss: 151.1170196533203\n",
      "Epoch: 410, Loss: 148.45140075683594\n",
      "Epoch: 420, Loss: 146.3236541748047\n",
      "Epoch: 430, Loss: 148.0397491455078\n",
      "Epoch: 440, Loss: 143.76791381835938\n",
      "Epoch: 450, Loss: 148.4964599609375\n",
      "Epoch: 460, Loss: 141.61924743652344\n",
      "Epoch: 470, Loss: 148.91351318359375\n",
      "Epoch: 480, Loss: 142.27688598632812\n",
      "Epoch: 490, Loss: 143.90362548828125\n",
      "Epoch: 500, Loss: 144.371337890625\n",
      "Epoch: 510, Loss: 141.13137817382812\n",
      "Epoch: 520, Loss: 138.0651092529297\n",
      "Epoch: 530, Loss: 140.93844604492188\n",
      "Epoch: 540, Loss: 135.8328399658203\n",
      "Epoch: 550, Loss: 136.81805419921875\n",
      "Epoch: 560, Loss: 133.9061737060547\n",
      "Epoch: 570, Loss: 134.29953002929688\n",
      "Epoch: 580, Loss: 155.2445526123047\n",
      "Epoch: 590, Loss: 147.84996032714844\n",
      "Epoch: 600, Loss: 143.8786163330078\n",
      "Epoch: 610, Loss: 144.6175537109375\n",
      "Epoch: 620, Loss: 140.3208770751953\n",
      "Epoch: 630, Loss: 140.18765258789062\n",
      "Epoch: 640, Loss: 141.23512268066406\n",
      "Epoch: 650, Loss: 135.20497131347656\n",
      "Epoch: 660, Loss: 132.70680236816406\n",
      "Epoch: 670, Loss: 131.7845001220703\n",
      "Epoch: 680, Loss: 138.26051330566406\n",
      "Epoch: 690, Loss: 130.78086853027344\n",
      "Epoch: 700, Loss: 139.08973693847656\n",
      "Epoch: 710, Loss: 129.97657775878906\n",
      "Epoch: 720, Loss: 136.1605987548828\n",
      "Epoch: 730, Loss: 129.95016479492188\n",
      "Epoch: 740, Loss: 128.94662475585938\n",
      "Epoch: 750, Loss: 128.38998413085938\n",
      "Epoch: 760, Loss: 120.87310791015625\n",
      "Epoch: 770, Loss: 121.68875122070312\n",
      "Epoch: 780, Loss: 124.44406127929688\n",
      "Epoch: 790, Loss: 128.47642517089844\n",
      "Epoch: 800, Loss: 125.4643783569336\n",
      "Epoch: 810, Loss: 123.40493774414062\n",
      "Epoch: 820, Loss: 122.22447967529297\n",
      "Epoch: 830, Loss: 117.72981262207031\n",
      "Epoch: 840, Loss: 117.49185180664062\n",
      "Epoch: 850, Loss: 114.7002182006836\n",
      "Epoch: 860, Loss: 119.06976318359375\n",
      "Epoch: 870, Loss: 124.13923645019531\n",
      "Epoch: 880, Loss: 118.85932922363281\n",
      "Epoch: 890, Loss: 122.47660827636719\n",
      "Epoch: 900, Loss: 115.06973266601562\n",
      "Epoch: 910, Loss: 111.01948547363281\n",
      "Epoch: 920, Loss: 110.0392837524414\n",
      "Epoch: 930, Loss: 116.86532592773438\n",
      "Epoch: 940, Loss: 112.79434204101562\n",
      "Epoch: 950, Loss: 113.68646240234375\n",
      "Epoch: 960, Loss: 114.6297607421875\n",
      "Epoch: 970, Loss: 121.03350067138672\n",
      "Epoch: 980, Loss: 121.48238372802734\n",
      "Epoch: 990, Loss: 115.7361068725586\n"
     ]
    }
   ],
   "source": [
    "lstm = train_model(LSTM(inputsize, 64, 2, outputsize))\n"
   ]
  },
  {
   "cell_type": "code",
   "execution_count": 54,
   "id": "78fe3e8d-86b8-47c2-8c83-200a798ca689",
   "metadata": {},
   "outputs": [],
   "source": [
    "# valid the models\n",
    "device='cpu'\n",
    "\n",
    "X_val_norm = torch.from_numpy(X_val_norm).to(device, dtype=torch.float)\n",
    "y_val = torch.from_numpy(y_val).to(device, dtype=torch.float)\n"
   ]
  },
  {
   "cell_type": "code",
   "execution_count": 55,
   "id": "d822a93f-0177-4caa-a549-56bc7aa7169a",
   "metadata": {},
   "outputs": [],
   "source": [
    "@torch.no_grad()\n",
    "def predict(model):\n",
    "    model = model.to(device)\n",
    "    model.eval()\n",
    "    criterion = nn.MSELoss(reduction='sum')\n",
    "   \n",
    "    # Training RNN model\n",
    "    batch_size=1\n",
    "    chunk = (chunk_len*batch_size)\n",
    "    total_loss = 0\n",
    "\n",
    "    h0=None\n",
    "    predicts = []\n",
    "    for i in tqdm(range(0, X_val_norm.shape[0]//chunk+1)):\n",
    "        #start_i = min(i*chunk, X_val_norm.shape[0] - chunk)\n",
    "        start_i = i*chunk\n",
    "        batch_X = X_val_norm[start_i:(i+1)*chunk]\n",
    "        batch_y = y_val[start_i: (i+1)*chunk + 1]\n",
    "        batch = torch.cat((batch_X, batch_y[:-1].unsqueeze(dim=1)), dim=1).view(batch_size, -1, batch_X.shape[1]+1)\n",
    "\n",
    "        outputs, h0 = model(batch, h0)\n",
    "        total_loss += criterion(outputs.view(-1), batch_y[1:]).item()\n",
    "        predicts.extend(outputs.view(-1).cpu().tolist())\n",
    "    print(f'Loss: {total_loss / X_val_norm.shape[0]}')\n",
    "    return predicts"
   ]
  },
  {
   "cell_type": "code",
   "execution_count": 58,
   "id": "4d7c6c89-86bb-486e-b6eb-60fdb7848f64",
   "metadata": {},
   "outputs": [
    {
     "data": {
      "application/vnd.jupyter.widget-view+json": {
       "model_id": "54bc91cf95454b1d91a2c5309af3b720",
       "version_major": 2,
       "version_minor": 0
      },
      "text/plain": [
       "  0%|          | 0/46 [00:00<?, ?it/s]"
      ]
     },
     "metadata": {},
     "output_type": "display_data"
    },
    {
     "name": "stdout",
     "output_type": "stream",
     "text": [
      "Loss: 120.69131114863714\n",
      "name='rnn', mse=120.69131135447738, rmse=10.985959737523043, r2=0.8768350631292092\n"
     ]
    },
    {
     "data": {
      "application/vnd.jupyter.widget-view+json": {
       "model_id": "126994f41c2949f6bd331e3bf748ea67",
       "version_major": 2,
       "version_minor": 0
      },
      "text/plain": [
       "  0%|          | 0/46 [00:00<?, ?it/s]"
      ]
     },
     "metadata": {},
     "output_type": "display_data"
    },
    {
     "name": "stdout",
     "output_type": "stream",
     "text": [
      "Loss: 136.449274525143\n",
      "name='gru', mse=136.44927360168705, rmse=11.681150354382357, r2=0.8607541339918203\n"
     ]
    },
    {
     "data": {
      "application/vnd.jupyter.widget-view+json": {
       "model_id": "4cda74b4f1cc4e75aa9c201569b7a0fe",
       "version_major": 2,
       "version_minor": 0
      },
      "text/plain": [
       "  0%|          | 0/46 [00:00<?, ?it/s]"
      ]
     },
     "metadata": {},
     "output_type": "display_data"
    },
    {
     "name": "stdout",
     "output_type": "stream",
     "text": [
      "Loss: 104.39774079641586\n",
      "name='lstm', mse=104.3977416585601, rmse=10.217521306978522, r2=0.893462577243323\n"
     ]
    }
   ],
   "source": [
    "# Generate predictions\n",
    "\n",
    "for name, model in zip(['rnn', 'gru', 'lstm'], [rnn, gru, lstm]):\n",
    "    predictions = predict(model)\n",
    "    mse = mean_squared_error(y_val[1:], predictions)\n",
    "    rmse = np.sqrt(mse)\n",
    "    r2 = r2_score(y_val[1:], predictions)\n",
    "    print(f\"{name=}, {mse=}, {rmse=}, {r2=}\")\n",
    "    \n",
    "\n",
    "\n"
   ]
  },
  {
   "cell_type": "code",
   "execution_count": null,
   "id": "bc8bf7d5-bc1b-4ac0-9037-d4114356fefa",
   "metadata": {},
   "outputs": [],
   "source": [
    "# Вывод"
   ]
  }
 ],
 "metadata": {
  "kernelspec": {
   "display_name": "Python 3 (ipykernel)",
   "language": "python",
   "name": "python3"
  },
  "language_info": {
   "codemirror_mode": {
    "name": "ipython",
    "version": 3
   },
   "file_extension": ".py",
   "mimetype": "text/x-python",
   "name": "python",
   "nbconvert_exporter": "python",
   "pygments_lexer": "ipython3",
   "version": "3.9.18"
  }
 },
 "nbformat": 4,
 "nbformat_minor": 5
}
